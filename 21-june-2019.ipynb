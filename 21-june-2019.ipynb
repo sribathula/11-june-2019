{
 "cells": [
  {
   "cell_type": "code",
   "execution_count": 10,
   "metadata": {},
   "outputs": [
    {
     "name": "stdout",
     "output_type": "stream",
     "text": [
      "name1 added to contacts\n",
      "False\n"
     ]
    }
   ],
   "source": [
    "#Function to add contact to contacts text file\n",
    "from Packages import validators as v\n",
    "def addContact(name,phone,email):\n",
    "    #store data as name,phone,email in the contacts file\n",
    "    filename='DataFiles/contact.txt'\n",
    "    with open(filename,'a') as f:\n",
    "        line=name +','+str(phone)+','+email+'\\n'\n",
    "        f.write(line)\n",
    "    print(name,'added to contacts')\n",
    "    return\n",
    "addContact(\"name1\",7989101588,\"sribathula126@gmail.com\")\n",
    "\n",
    "\n",
    "import re\n",
    "#Function to check if contact already exists\n",
    "def CheckContactExists(name):\n",
    "    filename='DataFiles/contact.txt'\n",
    "    with open(filename,'r') as f:\n",
    "        filedata=f.read()\n",
    "        pattern='^'+'(name)'\n",
    "    \n",
    "    return re.search(name,filedata)\n",
    "CheckContactExists(\"name1\")\n",
    "\n",
    "if CheckContactExists(\"name1\"):\n",
    "    print(True)\n",
    "else:\n",
    "    print(False)\n",
    "\n",
    "        \n",
    "\n",
    "    \n",
    "    \n",
    "    "
   ]
  },
  {
   "cell_type": "code",
   "execution_count": 2,
   "metadata": {},
   "outputs": [
    {
     "name": "stdout",
     "output_type": "stream",
     "text": [
      "valid Number\n",
      "Invalid Phone number or Email\n"
     ]
    }
   ],
   "source": [
    "# Function to add contact to contacts text file\n",
    "from Packages.validators import phoneNumberValidator as pnv, emailValidator as ev\n",
    "#from Packages.validators import emailValidator as ev\n",
    "\n",
    "\n",
    "def addContact(name, phone, email):\n",
    "    # store data as name,phone,email in the contacts file    \n",
    "    filename = 'DataFiles/contacts.txt'\n",
    "    if not checkContactExists(name):\n",
    "        if pnv(phone) and ev(email):\n",
    "            with open(filename, 'a') as f:\n",
    "                line = name + ',' + str(phone) + ',' + email + '\\n'\n",
    "                f.write(line)\n",
    "            print(name, 'added to contacts')\n",
    "        else:\n",
    "            print('Invalid Phone number or Email')\n",
    "            return\n",
    "    else:\n",
    "        print(name, 'already exists')\n",
    "    return\n",
    "\n",
    "import re\n",
    "# Function to check if contact already exists\n",
    "def checkContactExists(name):\n",
    "    filename = 'DataFiles/contacts.txt'\n",
    "    with open(filename, 'r') as f:\n",
    "        filedata = f.read()\n",
    "        pattern = name+','\n",
    "    return re.search(pattern, filedata)\n",
    "\n",
    "addContact('name2', 8765432109, 'name2_34@gmail.com')"
   ]
  },
  {
   "cell_type": "code",
   "execution_count": 3,
   "metadata": {},
   "outputs": [
    {
     "data": {
      "text/plain": [
       "'name1,7989101588,sribathula126@gmail.com\\n'"
      ]
     },
     "execution_count": 3,
     "metadata": {},
     "output_type": "execute_result"
    }
   ],
   "source": [
    "filename='DataFiles/contacts.txt'\n",
    "def csvToList(contacts):\n",
    "    li=[]\n",
    "    with open(filename,'r') as f:\n",
    "        for line in f:\n",
    "            li.append(line.split(','))\n",
    "            \n",
    "    return li\n",
    "def listToFile(li):\n",
    "    s=''\n",
    "    for i in li:\n",
    "        s += ','.join(i)\n",
    "    return s\n",
    "li=csvToList(filename)\n",
    "listToFile(li)\n",
    "\n",
    "\n",
    "    \n",
    "    "
   ]
  },
  {
   "cell_type": "code",
   "execution_count": 12,
   "metadata": {},
   "outputs": [
    {
     "data": {
      "text/plain": [
       "0"
      ]
     },
     "execution_count": 12,
     "metadata": {},
     "output_type": "execute_result"
    }
   ],
   "source": [
    "def searchwithreturn(filename,name):\n",
    "    f1=csvToList(filename)\n",
    "    flag=0\n",
    "    for i in range(len(f1)):\n",
    "         if name==f1[i][0]:\n",
    "                flag=1\n",
    "                return i\n",
    "    if flag==0:\n",
    "        return -1\n",
    "searchwithreturn(filename,'name1')"
   ]
  },
  {
   "cell_type": "code",
   "execution_count": 14,
   "metadata": {},
   "outputs": [
    {
     "name": "stdout",
     "output_type": "stream",
     "text": [
      "contact not found to remove\n"
     ]
    }
   ],
   "source": [
    "def remove(filename,name):\n",
    "    i=searchwithreturn(filename,name)\n",
    "    if i!=-1:\n",
    "        f1=csvToList(filename)\n",
    "        f1.pop(i)\n",
    "        s=listTocsv(f1)\n",
    "        with open(filenamename,'w') as f:\n",
    "            f.write(s)\n",
    "    else:\n",
    "        print(\"contact not found to remove\")\n",
    "remove(filename,'srilakshmi')"
   ]
  },
  {
   "cell_type": "code",
   "execution_count": null,
   "metadata": {},
   "outputs": [],
   "source": []
  }
 ],
 "metadata": {
  "kernelspec": {
   "display_name": "Python 3",
   "language": "python",
   "name": "python3"
  },
  "language_info": {
   "codemirror_mode": {
    "name": "ipython",
    "version": 3
   },
   "file_extension": ".py",
   "mimetype": "text/x-python",
   "name": "python",
   "nbconvert_exporter": "python",
   "pygments_lexer": "ipython3",
   "version": "3.7.3"
  }
 },
 "nbformat": 4,
 "nbformat_minor": 2
}
