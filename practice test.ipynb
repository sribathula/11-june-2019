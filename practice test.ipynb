{
 "cells": [
  {
   "cell_type": "code",
   "execution_count": 9,
   "metadata": {},
   "outputs": [
    {
     "data": {
      "text/plain": [
       "[1, 2, 3, 4, 5, 6]"
      ]
     },
     "execution_count": 9,
     "metadata": {},
     "output_type": "execute_result"
    }
   ],
   "source": [
    "\n",
    "s=\"1 2 3 4 5 6\"\n",
    "li=s.split()\n",
    "\n",
    "numberlist=[]\n",
    "for i in li:\n",
    "    numberlist.append(int(i))\n",
    "numberlist"
   ]
  },
  {
   "cell_type": "code",
   "execution_count": 6,
   "metadata": {},
   "outputs": [
    {
     "name": "stdout",
     "output_type": "stream",
     "text": [
      "3\n",
      "-7 -2 -9\n"
     ]
    },
    {
     "data": {
      "text/plain": [
       "2"
      ]
     },
     "execution_count": 6,
     "metadata": {},
     "output_type": "execute_result"
    }
   ],
   "source": [
    "n=int(input())                            #seperate all numbers less than zero and take max \n",
    "              #all numbers greater than or equal to zero,get to \n",
    "              #-1 2 5 -10 -20\n",
    "              #-1 -10 -20 -> -1\n",
    "              #2 5 ->2\n",
    "              # -2 1 -> 1\n",
    "              \n",
    "s=input() #\"1 2 3 4 5\"\n",
    "li=[]\n",
    "for i in s.split():\n",
    "    li.append(abs((i))\n",
    "def closestzero(li):\n",
    "        for i in li:\n",
    "              if i>=0:\n",
    "                 p1.append(i)\n",
    "        nc=max(n1)\n",
    "        pc=min(p1)\n",
    "              \n",
    "              \n",
    "              \n",
    "              \n",
    "\n",
    "min(li)\n"
   ]
  },
  {
   "cell_type": "markdown",
   "metadata": {},
   "source": [
    "### Problem-closestZero\n",
    "\n",
    "\n",
    "\n",
    "\n",
    "\n",
    "**Explanation**\n",
    "- li=[3,2,-1,-2,-3] (original list)\n",
    "- Sort the data\n",
    "- li=[-3,-2,-1,2,3] (sorted list)\n",
    "- pl=[1,2,2,3,3] (positive sortedlist)\n",
    "- pl[0] ->check if this number is -ve or +ve in the list\n",
    "- if p1[0] in li:\n",
    "    -return p1[0]\n",
    "- else \n",
    "    -retrun -p1[0]\n",
    "\n"
   ]
  },
  {
   "cell_type": "code",
   "execution_count": 8,
   "metadata": {},
   "outputs": [
    {
     "name": "stdout",
     "output_type": "stream",
     "text": [
      "-1\n"
     ]
    }
   ],
   "source": [
    "\n",
    "li=[-1,-2,2,3]\n",
    "li.sort()\n",
    "pl=[]\n",
    "for i in li:\n",
    "    pl.append(abs(i))\n",
    "pl.sort()\n",
    "if -pl[0] in li:\n",
    "    print(-pl[0])\n",
    "else:\n",
    "    print(pl[0])\n",
    "    "
   ]
  },
  {
   "cell_type": "markdown",
   "metadata": {},
   "source": [
    "### Problem 3\n",
    "You are given 3 numbers a,b,c.write a program to find the largest number which is less than or equal to c and leaves remainder b when divided by 'a'\n"
   ]
  },
  {
   "cell_type": "code",
   "execution_count": 24,
   "metadata": {},
   "outputs": [
    {
     "data": {
      "text/plain": [
       "98"
      ]
     },
     "execution_count": 24,
     "metadata": {},
     "output_type": "execute_result"
    }
   ],
   "source": [
    "#3 2 9\n",
    "9%3==0\n",
    "8%3==2\n",
    "\n",
    "1 2 4\n",
    "4%1==0\n",
    "3%1==0\n",
    "2%1==0\n",
    "1%1==0\n",
    "0%1==0\n",
    "-1%1==0\n",
    "\n",
    "\n",
    "\n",
    "\n",
    "\n",
    "\n",
    "def cal(a,b,c): \n",
    "    for i in range(c,a-1,-1):\n",
    "        if i%a==b:\n",
    "            return i\n",
    "    return -1\n",
    "cal(3,2,100)\n",
    "    \n",
    "    \n",
    "         \n",
    "        \n"
   ]
  },
  {
   "cell_type": "code",
   "execution_count": null,
   "metadata": {},
   "outputs": [],
   "source": []
  }
 ],
 "metadata": {
  "kernelspec": {
   "display_name": "Python 3",
   "language": "python",
   "name": "python3"
  },
  "language_info": {
   "codemirror_mode": {
    "name": "ipython",
    "version": 3
   },
   "file_extension": ".py",
   "mimetype": "text/x-python",
   "name": "python",
   "nbconvert_exporter": "python",
   "pygments_lexer": "ipython3",
   "version": "3.7.3"
  }
 },
 "nbformat": 4,
 "nbformat_minor": 2
}
