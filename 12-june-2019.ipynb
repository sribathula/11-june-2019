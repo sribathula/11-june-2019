{
 "cells": [
  {
   "cell_type": "markdown",
   "metadata": {},
   "source": [
    "#  Date 12 June 2019\n",
    "### Day Objectives\n",
    "* String Slicing\n",
    "* Functions in Python\n",
    "* Basic Problems related to conditional statements using functions\n",
    "* Iteration in Python\n",
    "* problem set for practice"
   ]
  },
  {
   "cell_type": "code",
   "execution_count": null,
   "metadata": {},
   "outputs": [],
   "source": []
  },
  {
   "cell_type": "markdown",
   "metadata": {},
   "source": [
    "# String Slicing"
   ]
  },
  {
   "cell_type": "code",
   "execution_count": 30,
   "metadata": {},
   "outputs": [
    {
     "name": "stdout",
     "output_type": "stream",
     "text": [
      "htyP\n"
     ]
    },
    {
     "data": {
      "text/plain": [
       "'nhy'"
      ]
     },
     "execution_count": 30,
     "metadata": {},
     "output_type": "execute_result"
    }
   ],
   "source": [
    "s1=\"Python\"\n",
    "s1[0]#accessing the first character in a string\n",
    "s1[1] #accessing the second character in a string\n",
    "s1[len(s1)-1] #accessing the last character in a string\n",
    "s1[-1]#another way of accessing the last  character in a string\n",
    "s1[len(s1)-2] #accessing the penultimate  character of  a string\n",
    "s1[0:2] #accessing the first two character in a string\n",
    "s1[4:] #accessing all characters 5th to end of  string\n",
    "s1[-2:]#accessing the last two character in a string\n",
    "s1[1:-1] #accesing the all characters except first and last character\n",
    "s1[len(s1)//2] # //->integer division,#accesing the middle characters\n",
    "s1[-1::-1] #reverse of a string\n",
    "s1[-1:-3:-1] ##accesing last two characters\n",
    "print(s1[len(s1)//2::-2//2])#reversing middel of two strings\n",
    "s1[::2] #accessing alternate characters in a string\n",
    "s1[::-2] #accessing alternate characters in a string in reverse order"
   ]
  },
  {
   "cell_type": "markdown",
   "metadata": {},
   "source": [
    "# Functions"
   ]
  },
  {
   "cell_type": "code",
   "execution_count": 21,
   "metadata": {},
   "outputs": [
    {
     "data": {
      "text/plain": [
       "'nohtyP'"
      ]
     },
     "execution_count": 21,
     "metadata": {},
     "output_type": "execute_result"
    }
   ],
   "source": [
    "#Function to reverse a string\n",
    "def reverseString(s):\n",
    "    return s[::-1]\n",
    "\n",
    "reverseString(\"Python\")"
   ]
  },
  {
   "cell_type": "code",
   "execution_count": 29,
   "metadata": {},
   "outputs": [
    {
     "name": "stdout",
     "output_type": "stream",
     "text": [
      "enter a stringracecar\n"
     ]
    },
    {
     "data": {
      "text/plain": [
       "True"
      ]
     },
     "execution_count": 29,
     "metadata": {},
     "output_type": "execute_result"
    }
   ],
   "source": [
    "#Function to check if a string is palindrome\n",
    "def palindrome(s):\n",
    "    if s == s[::-1]:\n",
    "        return True\n",
    "    else:\n",
    "        return False\n",
    "s=str(input(\"enter a string\"))\n",
    "palindrome(s)"
   ]
  },
  {
   "cell_type": "code",
   "execution_count": 32,
   "metadata": {},
   "outputs": [
    {
     "name": "stdout",
     "output_type": "stream",
     "text": [
      "enter a number13\n"
     ]
    },
    {
     "data": {
      "text/plain": [
       "'odd'"
      ]
     },
     "execution_count": 32,
     "metadata": {},
     "output_type": "execute_result"
    }
   ],
   "source": [
    "#even numbers\n",
    "def even(n):\n",
    "    if n%2==0:\n",
    "        return\"even\"\n",
    "    else:\n",
    "        return \"odd\"\n",
    "n=int(input(\"enter a number\"))\n",
    "even(n)"
   ]
  },
  {
   "cell_type": "code",
   "execution_count": 44,
   "metadata": {},
   "outputs": [
    {
     "name": "stdout",
     "output_type": "stream",
     "text": [
      "enter a year2019\n"
     ]
    },
    {
     "data": {
      "text/plain": [
       "'not a leap year'"
      ]
     },
     "execution_count": 44,
     "metadata": {},
     "output_type": "execute_result"
    }
   ],
   "source": [
    "#leap year\n",
    "def leapyear(y):\n",
    "    if y%400==0 or (y%4==0 and y%100!=0):\n",
    "        return \"leapyear\"\n",
    "    else:\n",
    "        return \"not a leap year\"\n",
    "y=int(input(\"enter a year\"))\n",
    "leapyear(y)\n",
    "        "
   ]
  },
  {
   "cell_type": "code",
   "execution_count": 46,
   "metadata": {},
   "outputs": [
    {
     "name": "stdout",
     "output_type": "stream",
     "text": [
      "enter a number1234\n"
     ]
    },
    {
     "data": {
      "text/plain": [
       "4"
      ]
     },
     "execution_count": 46,
     "metadata": {},
     "output_type": "execute_result"
    }
   ],
   "source": [
    "#count no of digits\n",
    "def noofdigits(n):\n",
    "    return len(str(n))\n",
    "n=int(input(\"enter a number\"))\n",
    "noofdigits(n)"
   ]
  },
  {
   "cell_type": "code",
   "execution_count": 49,
   "metadata": {},
   "outputs": [
    {
     "name": "stdout",
     "output_type": "stream",
     "text": [
      "enter a number234\n",
      "enter a number678\n",
      "enter a number908\n",
      "enter a number1009\n"
     ]
    },
    {
     "data": {
      "text/plain": [
       "'n4 is greatest'"
      ]
     },
     "execution_count": 49,
     "metadata": {},
     "output_type": "execute_result"
    }
   ],
   "source": [
    "#Function to identify the greatest of 4 numbers\n",
    "def greatest(n1,n2,n3,n4):\n",
    "    if n1>n2 and n1>n3 and n1>n4:\n",
    "        return \"n1 is greatest\"\n",
    "    elif n2>n3 and n2>n4:\n",
    "        return \"n2 is grreatest\"\n",
    "    elif n3>n4:\n",
    "        return \"n3 is greatest\"\n",
    "    else:\n",
    "        return \"n4 is greatest\"\n",
    "n1=int(input(\"enter a number\"))\n",
    "n2=int(input(\"enter a number\"))\n",
    "n3=int(input(\"enter a number\"))\n",
    "n4=int(input(\"enter a number\"))\n",
    "greatest(n1,n2,n3,n4)"
   ]
  },
  {
   "cell_type": "markdown",
   "metadata": {},
   "source": [
    "# Iterations\n",
    "* for\n",
    "* while"
   ]
  },
  {
   "cell_type": "code",
   "execution_count": 58,
   "metadata": {},
   "outputs": [
    {
     "name": "stdout",
     "output_type": "stream",
     "text": [
      "enter a number35\n",
      "1 2 3 4 5 6 7 8 9 10 11 12 13 14 15 16 17 18 19 20 21 22 23 24 25 26 27 28 29 30 31 32 33 34 35 "
     ]
    }
   ],
   "source": [
    "#function to print n natural numbers using forloop\n",
    "def printNnaturalNumbers(n):\n",
    "    for i in range(1,n+1):\n",
    "        print(i,end=\" \")\n",
    "    return\n",
    "n=int(input(\"enter a number\"))\n",
    "printNnaturalNumbers(n)\n"
   ]
  },
  {
   "cell_type": "code",
   "execution_count": 66,
   "metadata": {},
   "outputs": [
    {
     "name": "stdout",
     "output_type": "stream",
     "text": [
      "enter a number20\n",
      "0 2 4 6 8 10 12 14 16 18 "
     ]
    }
   ],
   "source": [
    "#even numbers\n",
    "def even(n):\n",
    "    for i in range(0,n,2):\n",
    "        print(i,end=\" \")\n",
    "    return\n",
    "n=int(input(\"enter a number\"))\n",
    "even(n)"
   ]
  },
  {
   "cell_type": "code",
   "execution_count": 67,
   "metadata": {},
   "outputs": [
    {
     "name": "stdout",
     "output_type": "stream",
     "text": [
      "enter a num12\n",
      "1 2 3 4 5 6 7 8 9 10 11 12 "
     ]
    }
   ],
   "source": [
    "#Function to n natural using while loop\n",
    "def nNaturalnumbers(n):\n",
    "    i=1\n",
    "    while(i<=n):\n",
    "        print(i,end=\" \")\n",
    "        i=i+1\n",
    "    return\n",
    "n=int(input(\"enter a num\"))\n",
    "nNaturalnumbers(n)"
   ]
  },
  {
   "cell_type": "code",
   "execution_count": 1,
   "metadata": {},
   "outputs": [
    {
     "name": "stdout",
     "output_type": "stream",
     "text": [
      "enter a lb500\n",
      "enter a ub525\n",
      "500 502 504 506 508 510 512 514 516 518 520 522 524 "
     ]
    }
   ],
   "source": [
    "#function to print the alternative values in a range in the same line \n",
    "#[500,550]->500 502 504.........550 inclusive\n",
    "#(500,550)->501 503 505 ........549 excluisve\n",
    "#range(500,550)->500 501 502...549(start value inclusive so 500 start and end value exclusive 549 exclusive)\n",
    "def alternativevalues(lb,ub):\n",
    "    for i in range(lb,ub+1,2):\n",
    "        print(i,end=\" \")\n",
    "    return\n",
    "lb=int(input(\"enter a lb\"))\n",
    "ub=int(input(\"enter a ub\"))\n",
    "alternativevalues(lb,ub) \n",
    "    "
   ]
  },
  {
   "cell_type": "code",
   "execution_count": 8,
   "metadata": {},
   "outputs": [
    {
     "name": "stdout",
     "output_type": "stream",
     "text": [
      "enter a lb1\n",
      "enter a ub10\n",
      "10 9 8 7 6 5 4 3 2 1 "
     ]
    }
   ],
   "source": [
    "#function to reverse of a range in same line\n",
    "def reverse(lb,ub):\n",
    "    for i in range(ub,lb-1,-1):\n",
    "        print(i,end=\" \")\n",
    "    return \n",
    "lb=int(input(\"enter a lb\"))\n",
    "ub=int(input(\"enter a ub\"))\n",
    "reverse(lb,ub)\n"
   ]
  },
  {
   "cell_type": "code",
   "execution_count": 21,
   "metadata": {},
   "outputs": [
    {
     "name": "stdout",
     "output_type": "stream",
     "text": [
      "enter a lb1\n",
      "enter a ub10\n",
      "9 7 5 3 1 "
     ]
    }
   ],
   "source": [
    "#Function to print the odd numbers in a reverse order in alternative\n",
    "def oddreverse(lb,ub):\n",
    "    for i in range(ub,lb-1,-1):\n",
    "        if(i%2!=0):\n",
    "            print(i,end=\" \")\n",
    "    return\n",
    "lb=int(input(\"enter a lb\"))\n",
    "ub=int(input(\"enter a ub\"))\n",
    "oddreverse(lb,ub)\n"
   ]
  },
  {
   "cell_type": "code",
   "execution_count": 26,
   "metadata": {},
   "outputs": [
    {
     "name": "stdout",
     "output_type": "stream",
     "text": [
      "enter a lb1\n",
      "enter a ub3\n"
     ]
    },
    {
     "data": {
      "text/plain": [
       "6"
      ]
     },
     "execution_count": 26,
     "metadata": {},
     "output_type": "execute_result"
    }
   ],
   "source": [
    "#function to calculate sum of numbers in a range\n",
    "def sumn(lb,ub):\n",
    "    sum=0\n",
    "    for i in range(lb,ub+1):\n",
    "        sum=sum+i\n",
    "    return sum\n",
    "lb=int(input(\"enter a lb\"))\n",
    "ub=int(input(\"enter a ub\"))\n",
    "sumn(lb,ub)\n",
    "\n",
    "\n",
    "\n",
    "    "
   ]
  },
  {
   "cell_type": "code",
   "execution_count": 13,
   "metadata": {},
   "outputs": [
    {
     "name": "stdout",
     "output_type": "stream",
     "text": [
      "enter a start year2000\n",
      "enter a end year2019\n",
      "2000 2004 2008 2012 2016 "
     ]
    }
   ],
   "source": [
    "#Function to generate all leap years in a given time period\n",
    "#2000-2020->2000 2004 2008 2012 2016 2020\n",
    "def isLeapYear(y):\n",
    "    if y%400==0 or(y%4==0 and y%100!=0):\n",
    "        return True\n",
    "    return False\n",
    "def generateleapyears(startyear,endyear):\n",
    "    for y in range(startyear,endyear+1):\n",
    "         if isLeapYear(y):\n",
    "            print(y,end=\" \")\n",
    "startyear=int(input(\"enter a start year\"))\n",
    "endyear=int(input(\"enter a end year\"))\n",
    "generateleapyears(startyear,endyear)\n",
    "        \n",
    "\n"
   ]
  },
  {
   "cell_type": "code",
   "execution_count": 18,
   "metadata": {},
   "outputs": [
    {
     "name": "stdout",
     "output_type": "stream",
     "text": [
      "enter a startyear2000\n",
      "enter a  endyear2019\n"
     ]
    },
    {
     "data": {
      "text/plain": [
       "7305"
      ]
     },
     "execution_count": 18,
     "metadata": {},
     "output_type": "execute_result"
    }
   ],
   "source": [
    "#caluate the number of days in a given time period using leap year\n",
    "#for every year in the given  year->add 365 to sum->if not add 366 to sum\n",
    "def  numberOfDays(startyear,endyear):\n",
    "    sum=0\n",
    "    for y in range(startyear,endyear+1):\n",
    "        if isLeapYear(y):\n",
    "                sum=sum+366\n",
    "        else:\n",
    "            sum=sum+365\n",
    "    return sum\n",
    "startyear=int(input(\"enter a startyear\"))\n",
    "endyear=int(input(\"enter a  endyear\"))\n",
    "numberOfDays(startyear,endyear)\n",
    "    "
   ]
  },
  {
   "cell_type": "code",
   "execution_count": 20,
   "metadata": {},
   "outputs": [
    {
     "data": {
      "text/plain": [
       "205248"
      ]
     },
     "execution_count": 20,
     "metadata": {},
     "output_type": "execute_result"
    }
   ],
   "source": [
    "#function to calculate number of hours for a given period\n",
    "#(11,1975,3,1999)->204504 or  205248\n",
    "#2,2017,6,2019\n",
    "#[all days from feb 2016 to dec 2016]\n",
    "#[all days for years between start and end,all day from jan to june 2019]\n",
    "#no of hours=24*no of days\n",
    "#3 steps\n",
    " #1.start month year to end of year-calculate no of days\n",
    " #2.calculate days for all years between 2016+1 and 2019-1 exclusive\n",
    "            #2017,2018-365*no of years \n",
    " #3.calculate days from jan to end month year\n",
    "#excluding feb\n",
    "#first six months-1,3,4,5,6,7\n",
    "        #all odd months have 31 days\n",
    "        #all even months have 30days\n",
    "#last six motnhs -8,9,10,11,12\n",
    "        #all even months 31 days\n",
    "        #all odd months have 30 days\n",
    "#31days-(month<=7 and month%2!=0)//(month>=8 and month%2==0 and month!=2)\n",
    "#return 31\n",
    "#else\n",
    "#return 30\n",
    "def numberOfDaysMonth(month,year):\n",
    "    if month ==2:\n",
    "        if isLeapYear(year):\n",
    "            return 29\n",
    "        return 28\n",
    "    elif(month<=7 and month %2!=0) or (month>=8 and month%2==0):\n",
    "        return 31\n",
    "    else:\n",
    "        return 30\n",
    "def daysInStartYear(startmonth,startyear):\n",
    "    days=0\n",
    "    for month in range(startmonth,13):\n",
    "        days=days+numberOfDaysMonth(month,startyear)\n",
    "    return days\n",
    "def daysInEndYear(endmonth,endyear):\n",
    "    days=0\n",
    "    for month in range(1,endmonth+1):\n",
    "        days=days+numberOfDaysMonth(month,endyear)\n",
    "    return days\n",
    "def numberOfHours(startmonth,startyear,endmonth,endyear):\n",
    "    days=0\n",
    "    days=days+daysInStartYear(startmonth,startyear)\n",
    "    days=days+daysInEndYear(endmonth,endyear)\n",
    "    if endyear-startyear ==1:\n",
    "        days =days+numberOfDays(startyear+1,startyear+1)\n",
    "    elif endyear-startyear>2:\n",
    "        days=days+numberOfDays(startyear+1,endyear-1)\n",
    "    return 24*days\n",
    "numberOfHours(11,1975,3,1999)\n",
    "\n"
   ]
  },
  {
   "cell_type": "code",
   "execution_count": 8,
   "metadata": {},
   "outputs": [
    {
     "name": "stdout",
     "output_type": "stream",
     "text": [
      "enter a lb1\n",
      "enter a ub3\n"
     ]
    },
    {
     "data": {
      "text/plain": [
       "2.0"
      ]
     },
     "execution_count": 8,
     "metadata": {},
     "output_type": "execute_result"
    }
   ],
   "source": [
    "#calculate the average of a given range\n",
    "#(1,5)->3\n",
    "def sumn(lb,ub):\n",
    "    sum=0\n",
    "    for i in range(lb,ub+1):\n",
    "        sum=sum+i\n",
    "    return sum/n\n",
    "lb=int(input(\"enter a lb\"))\n",
    "ub=int(input(\"enter a ub\"))\n",
    "sumn(lb,ub)"
   ]
  },
  {
   "cell_type": "code",
   "execution_count": 29,
   "metadata": {},
   "outputs": [
    {
     "name": "stdout",
     "output_type": "stream",
     "text": [
      "enter lower bound29\n",
      "enter upper bound89\n",
      "30 36 42 48 54 60 66 72 78 84 "
     ]
    }
   ],
   "source": [
    "# Function to print all numbers divisible by 6 and not a factor of 100 in a given range(lb,ub)inclusive\n",
    "def fuction1(lb,ub):\n",
    "    \n",
    "    for i in range(lb,ub+1):\n",
    "        if i % 6 == 0 and 100 % i !=0:\n",
    "            print (i,end =\" \")\n",
    "        \n",
    "          \n",
    "lb = int(input (\"enter lower bound\"))\n",
    "ub = int(input (\"enter upper bound\"))\n",
    "\n",
    "fuction1(lb,ub)\n",
    "          \n",
    "  \n"
   ]
  },
  {
   "cell_type": "code",
   "execution_count": 17,
   "metadata": {},
   "outputs": [
    {
     "name": "stdout",
     "output_type": "stream",
     "text": [
      "enter a lb12\n",
      "enter a ub20\n",
      "12 14 16 18 20 avg 22400\n"
     ]
    }
   ],
   "source": [
    "Function to find the average ofcubes of all even numbers in inclusive range(lb,ub)\n",
    "\n",
    "def avgcubes(lb,ub):#\n",
    "    avg=0\n",
    "    for i in range(lb,ub+1):\n",
    "        if i%2==0:\n",
    "            avg=avg+i**3;\n",
    "            print(i,end=\" \")\n",
    "    print(\"avg\",avg)\n",
    "    \n",
    "lb=int(input(\"enter a lb\"))\n",
    "ub=int(input(\"enter a ub\"))\n",
    "avgcubes(lb,ub)"
   ]
  },
  {
   "cell_type": "code",
   "execution_count": 58,
   "metadata": {},
   "outputs": [
    {
     "name": "stdout",
     "output_type": "stream",
     "text": [
      "enter a num12\n",
      "1 2 3 4 6 12 "
     ]
    }
   ],
   "source": [
    "#Function to generate a list of factors for a given number\n",
    "#12->1 2 3 4 6 12\n",
    "def factors(n):\n",
    "    for i in range(1,n+2):\n",
    "        if n%i==0:\n",
    "            print(i,end=\" \")\n",
    "n=int(input(\"enter a num\"))\n",
    "factors(n)\n"
   ]
  },
  {
   "cell_type": "code",
   "execution_count": 34,
   "metadata": {},
   "outputs": [
    {
     "name": "stdout",
     "output_type": "stream",
     "text": [
      "enter a num3\n"
     ]
    },
    {
     "data": {
      "text/plain": [
       "6"
      ]
     },
     "execution_count": 34,
     "metadata": {},
     "output_type": "execute_result"
    }
   ],
   "source": [
    "# Function to calculate the factroial of a given number\n",
    "def factorial(n):\n",
    "    fact=1\n",
    "    for i in range(2,n+1):\n",
    "        fact=fact*i\n",
    "    return fact\n",
    "n=int(input(\"enter a num\"))\n",
    "factorial(n)"
   ]
  },
  {
   "cell_type": "code",
   "execution_count": 6,
   "metadata": {},
   "outputs": [
    {
     "name": "stdout",
     "output_type": "stream",
     "text": [
      "enter a num7\n"
     ]
    },
    {
     "data": {
      "text/plain": [
       "True"
      ]
     },
     "execution_count": 6,
     "metadata": {},
     "output_type": "execute_result"
    }
   ],
   "source": [
    "#Function to check if a given number is Prime\n",
    "def isPrime(n):\n",
    "    flag=True\n",
    "    for i in range(2,n//2+1):\n",
    "        if n%i==0:\n",
    "            flag=False\n",
    "            return flag\n",
    "    return flag\n",
    "        \n",
    "        \n",
    "n=int(input(\"enter a num\"))\n",
    "isPrime(n)"
   ]
  },
  {
   "cell_type": "code",
   "execution_count": 1,
   "metadata": {},
   "outputs": [
    {
     "ename": "NameError",
     "evalue": "name 'isPrime' is not defined",
     "output_type": "error",
     "traceback": [
      "\u001b[1;31m---------------------------------------------------------------------------\u001b[0m",
      "\u001b[1;31mNameError\u001b[0m                                 Traceback (most recent call last)",
      "\u001b[1;32m<ipython-input-1-7e09d1734ed1>\u001b[0m in \u001b[0;36m<module>\u001b[1;34m\u001b[0m\n\u001b[0;32m     12\u001b[0m     \u001b[1;32mreturn\u001b[0m \u001b[0msum\u001b[0m\u001b[1;33m/\u001b[0m\u001b[0mn\u001b[0m\u001b[1;33m\u001b[0m\u001b[1;33m\u001b[0m\u001b[0m\n\u001b[0;32m     13\u001b[0m \u001b[1;33m\u001b[0m\u001b[0m\n\u001b[1;32m---> 14\u001b[1;33m \u001b[0mavgNPrimes\u001b[0m\u001b[1;33m(\u001b[0m\u001b[1;36m10\u001b[0m\u001b[1;33m)\u001b[0m\u001b[1;33m\u001b[0m\u001b[1;33m\u001b[0m\u001b[0m\n\u001b[0m\u001b[0;32m     15\u001b[0m \u001b[1;33m\u001b[0m\u001b[0m\n\u001b[0;32m     16\u001b[0m \u001b[1;33m\u001b[0m\u001b[0m\n",
      "\u001b[1;32m<ipython-input-1-7e09d1734ed1>\u001b[0m in \u001b[0;36mavgNPrimes\u001b[1;34m(n)\u001b[0m\n\u001b[0;32m      5\u001b[0m     \u001b[0mseqCount\u001b[0m \u001b[1;33m=\u001b[0m \u001b[1;36m2\u001b[0m\u001b[1;33m\u001b[0m\u001b[1;33m\u001b[0m\u001b[0m\n\u001b[0;32m      6\u001b[0m     \u001b[1;32mwhile\u001b[0m\u001b[1;33m(\u001b[0m\u001b[0mprimeCount\u001b[0m \u001b[1;33m<\u001b[0m \u001b[0mn\u001b[0m\u001b[1;33m)\u001b[0m\u001b[1;33m:\u001b[0m\u001b[1;33m\u001b[0m\u001b[1;33m\u001b[0m\u001b[0m\n\u001b[1;32m----> 7\u001b[1;33m         \u001b[1;32mif\u001b[0m \u001b[0misPrime\u001b[0m\u001b[1;33m(\u001b[0m\u001b[0mseqCount\u001b[0m\u001b[1;33m)\u001b[0m\u001b[1;33m:\u001b[0m\u001b[1;33m\u001b[0m\u001b[1;33m\u001b[0m\u001b[0m\n\u001b[0m\u001b[0;32m      8\u001b[0m             \u001b[0mprimeCount\u001b[0m \u001b[1;33m+=\u001b[0m \u001b[1;36m1\u001b[0m\u001b[1;33m\u001b[0m\u001b[1;33m\u001b[0m\u001b[0m\n\u001b[0;32m      9\u001b[0m             \u001b[0msum\u001b[0m \u001b[1;33m+=\u001b[0m \u001b[0mseqCount\u001b[0m\u001b[1;33m\u001b[0m\u001b[1;33m\u001b[0m\u001b[0m\n",
      "\u001b[1;31mNameError\u001b[0m: name 'isPrime' is not defined"
     ]
    }
   ],
   "source": [
    "#Function to calculate the average first N prime numbers\n",
    "def avgNPrimes(n):\n",
    "    primeCount = 0\n",
    "    sum = 0\n",
    "    seqCount = 2\n",
    "    while(primeCount < n):\n",
    "        if isPrime(seqCount):\n",
    "            primeCount += 1\n",
    "            sum += seqCount\n",
    "            #print(seqCount)\n",
    "        seqCount += 1\n",
    "    return sum/n\n",
    "\n",
    "avgNPrimes(10)\n",
    "    \n",
    "    "
   ]
  },
  {
   "cell_type": "code",
   "execution_count": 56,
   "metadata": {},
   "outputs": [
    {
     "name": "stdout",
     "output_type": "stream",
     "text": [
      "1 1 2 1 3 1 2 4 1 5 1 2 3 6 1 7 1 2 4 8 1 3 9 1 2 5 10 "
     ]
    }
   ],
   "source": [
    "#Function to generate all perfect numbers in a given range\n",
    "def isperfect(n):\n",
    "    if factors(n)==n:\n",
    "        return True\n",
    "    return False\n",
    "def generatePerfect(lb,ub):\n",
    "    for i in range(lb,ub+1):\n",
    "        if isperfect(i):\n",
    "            print(i,end=\" \")\n",
    "    return\n",
    "generatePerfect(1,10)\n",
    "    \n"
   ]
  },
  {
   "cell_type": "code",
   "execution_count": 2,
   "metadata": {},
   "outputs": [
    {
     "name": "stdout",
     "output_type": "stream",
     "text": [
      "enter a number5\n"
     ]
    },
    {
     "data": {
      "text/plain": [
       "30.6"
      ]
     },
     "execution_count": 2,
     "metadata": {},
     "output_type": "execute_result"
    }
   ],
   "source": [
    "#Advanced Problem set(optional)\n",
    "    #Function to generate average of all factorials in a given range \n",
    "def avgfactorial(n):\n",
    "    fact=1\n",
    "    sum=0\n",
    "    for i in range(1,n+1):\n",
    "        fact=fact*i\n",
    "        sum=sum+fact\n",
    "    return sum/n\n",
    "n=int(input(\"enter a number\"))\n",
    "avgfactorial(n)\n",
    "\n",
    "        "
   ]
  },
  {
   "cell_type": "code",
   "execution_count": 4,
   "metadata": {},
   "outputs": [
    {
     "name": "stdout",
     "output_type": "stream",
     "text": [
      "enter a lower bound150\n",
      "enter a upper bound160\n"
     ]
    },
    {
     "ename": "UnboundLocalError",
     "evalue": "local variable 'sum' referenced before assignment",
     "output_type": "error",
     "traceback": [
      "\u001b[1;31m---------------------------------------------------------------------------\u001b[0m",
      "\u001b[1;31mUnboundLocalError\u001b[0m                         Traceback (most recent call last)",
      "\u001b[1;32m<ipython-input-4-c646fc1adb28>\u001b[0m in \u001b[0;36m<module>\u001b[1;34m\u001b[0m\n\u001b[0;32m     13\u001b[0m \u001b[0mlb\u001b[0m\u001b[1;33m=\u001b[0m\u001b[0mint\u001b[0m\u001b[1;33m(\u001b[0m\u001b[0minput\u001b[0m\u001b[1;33m(\u001b[0m\u001b[1;34m\"enter a lower bound\"\u001b[0m\u001b[1;33m)\u001b[0m\u001b[1;33m)\u001b[0m\u001b[1;33m\u001b[0m\u001b[1;33m\u001b[0m\u001b[0m\n\u001b[0;32m     14\u001b[0m \u001b[0mub\u001b[0m\u001b[1;33m=\u001b[0m\u001b[0mint\u001b[0m\u001b[1;33m(\u001b[0m\u001b[0minput\u001b[0m\u001b[1;33m(\u001b[0m\u001b[1;34m\"enter a upper bound\"\u001b[0m\u001b[1;33m)\u001b[0m\u001b[1;33m)\u001b[0m\u001b[1;33m\u001b[0m\u001b[1;33m\u001b[0m\u001b[0m\n\u001b[1;32m---> 15\u001b[1;33m \u001b[0marmstrong\u001b[0m\u001b[1;33m(\u001b[0m\u001b[0mlb\u001b[0m\u001b[1;33m,\u001b[0m\u001b[0mub\u001b[0m\u001b[1;33m)\u001b[0m\u001b[1;33m\u001b[0m\u001b[1;33m\u001b[0m\u001b[0m\n\u001b[0m\u001b[0;32m     16\u001b[0m \u001b[1;33m\u001b[0m\u001b[0m\n\u001b[0;32m     17\u001b[0m \u001b[1;33m\u001b[0m\u001b[0m\n",
      "\u001b[1;32m<ipython-input-4-c646fc1adb28>\u001b[0m in \u001b[0;36marmstrong\u001b[1;34m(lb, ub)\u001b[0m\n\u001b[0;32m      9\u001b[0m             \u001b[0mi\u001b[0m\u001b[1;33m=\u001b[0m\u001b[0mi\u001b[0m\u001b[1;33m/\u001b[0m\u001b[1;36m10\u001b[0m\u001b[1;33m\u001b[0m\u001b[1;33m\u001b[0m\u001b[0m\n\u001b[0;32m     10\u001b[0m             \u001b[0mte\u001b[0m\u001b[1;33m=\u001b[0m\u001b[0mte\u001b[0m\u001b[1;33m+\u001b[0m\u001b[1;36m1\u001b[0m\u001b[1;33m\u001b[0m\u001b[1;33m\u001b[0m\u001b[0m\n\u001b[1;32m---> 11\u001b[1;33m         \u001b[1;32mif\u001b[0m\u001b[1;33m(\u001b[0m\u001b[0msum\u001b[0m\u001b[1;33m==\u001b[0m\u001b[0mn\u001b[0m\u001b[1;33m)\u001b[0m\u001b[1;33m:\u001b[0m\u001b[1;33m\u001b[0m\u001b[1;33m\u001b[0m\u001b[0m\n\u001b[0m\u001b[0;32m     12\u001b[0m             \u001b[1;32mreturn\u001b[0m \u001b[0msum\u001b[0m\u001b[1;33m\u001b[0m\u001b[1;33m\u001b[0m\u001b[0m\n\u001b[0;32m     13\u001b[0m \u001b[0mlb\u001b[0m\u001b[1;33m=\u001b[0m\u001b[0mint\u001b[0m\u001b[1;33m(\u001b[0m\u001b[0minput\u001b[0m\u001b[1;33m(\u001b[0m\u001b[1;34m\"enter a lower bound\"\u001b[0m\u001b[1;33m)\u001b[0m\u001b[1;33m)\u001b[0m\u001b[1;33m\u001b[0m\u001b[1;33m\u001b[0m\u001b[0m\n",
      "\u001b[1;31mUnboundLocalError\u001b[0m: local variable 'sum' referenced before assignment"
     ]
    }
   ],
   "source": [
    "#Function to generate N odd armstrong numbers in a given range\n",
    "def armstrong(lb,ub):\n",
    "    te=0\n",
    "    for i in range(lb,ub+1):\n",
    "        if i%2!=0:\n",
    "            r=i%10\n",
    "            c=r**3\n",
    "            sum=sum+c\n",
    "            i=i/10\n",
    "            te=te+1\n",
    "        if(sum==n):\n",
    "            return sum\n",
    "lb=int(input(\"enter a lower bound\"))\n",
    "ub=int(input(\"enter a upper bound\"))\n",
    "armstrong(lb,ub)\n",
    "\n",
    "    \n",
    "                \n",
    "            \n",
    "            \n",
    "            \n",
    "        \n",
    "        \n",
    "    "
   ]
  },
  {
   "cell_type": "code",
   "execution_count": null,
   "metadata": {},
   "outputs": [],
   "source": [
    "#Function to generate Multiplication table for a number in a given range\n",
    " #10 in the range(110,110)inclusive\n",
    " #10x100=1000\n",
    " #10x101=1010\n",
    " #10x102=1020"
   ]
  },
  {
   "cell_type": "code",
   "execution_count": 7,
   "metadata": {},
   "outputs": [
    {
     "data": {
      "text/plain": [
       "1.2"
      ]
     },
     "execution_count": 7,
     "metadata": {},
     "output_type": "execute_result"
    }
   ],
   "source": [
    "120/100"
   ]
  },
  {
   "cell_type": "code",
   "execution_count": null,
   "metadata": {},
   "outputs": [],
   "source": []
  }
 ],
 "metadata": {
  "celltoolbar": "Slideshow",
  "kernelspec": {
   "display_name": "Python 3",
   "language": "python",
   "name": "python3"
  },
  "language_info": {
   "codemirror_mode": {
    "name": "ipython",
    "version": 3
   },
   "file_extension": ".py",
   "mimetype": "text/x-python",
   "name": "python",
   "nbconvert_exporter": "python",
   "pygments_lexer": "ipython3",
   "version": "3.7.3"
  }
 },
 "nbformat": 4,
 "nbformat_minor": 2
}
