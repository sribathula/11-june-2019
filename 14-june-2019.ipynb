{
 "cells": [
  {
   "cell_type": "markdown",
   "metadata": {},
   "source": [
    "### Problem Solving and Programming in Python\n",
    "\n",
    "### Date-14 june 2019\n",
    "### Day Objectives\n",
    "* Python Data Structures\n",
    "    * lists\n",
    "    * Tuples\n",
    "    * Dictionaries\n",
    "* Basic Problem set on Data Structures\n",
    "* Advanced Problem Set\n",
    "* Packages and Modules in Python"
   ]
  },
  {
   "cell_type": "markdown",
   "metadata": {},
   "source": [
    "### Python Data Structures\n",
    "### Lists"
   ]
  },
  {
   "cell_type": "code",
   "execution_count": 74,
   "metadata": {},
   "outputs": [
    {
     "name": "stdout",
     "output_type": "stream",
     "text": [
      "-1\n"
     ]
    }
   ],
   "source": [
    "#it is initlaised with squared prackets\n",
    "li=[123,345,654]\n",
    "li #acess the entire element\n",
    "li[1] #acees an elemnet with index in a list\n",
    "li[1:] #acess all element second element to last element\n",
    "li=li[::-1] #reversing list elements and reassigning to the original list\n",
    "li\n",
    "li=li[::-1]\n",
    "li\n",
    "li[::2] #accesing even indexes elements \n",
    "li[1::2] #accesing odd indexes elements\n",
    "#Lists can be accessed manipulated in two different ways\n",
    "    #Direct Referencing -it is go through indexing[disadvantage:there is a chance of data damaging]\n",
    "    #Indirect Referencing-it is go through functions\n",
    "\n",
    "li.append(345)  #Adding element to the end of the list\n",
    "\n",
    "li.insert(1,234) #Adding element at a particular index\n",
    "\n",
    "li.sort() #sort elements in ascending order\n",
    "\n",
    "li.pop() #remove last elemnet in a list\n",
    "\n",
    "li.pop(1) #remove an element in a particular index\n",
    "\n",
    "li2=[234,456,789]\n",
    "\n",
    "li.extend(li2)#merge list2 into list1\n",
    "\n",
    "sum(li) #sum of all elements in a list\n",
    "max(li) #maximum elements in a list\n",
    "len(li) #number of elements in a list\n",
    "\n",
    "sum(li)/len(li)  #Average of elements in a list\n",
    "sum(li[::2])/len(li[::2]) #avergae of all alternate even elements\n",
    "sum(li[1::2])/len(li[1::2]) #average of all alternate odd elements\n",
    "\n",
    "try:\n",
    "    li.index(1000)\n",
    "except:\n",
    "    print(-1)\n"
   ]
  },
  {
   "cell_type": "code",
   "execution_count": 64,
   "metadata": {},
   "outputs": [
    {
     "data": {
      "text/plain": [
       "234"
      ]
     },
     "execution_count": 64,
     "metadata": {},
     "output_type": "execute_result"
    }
   ],
   "source": [
    "#function to identify second largest element in a list\n",
    "   #Sort the data and select the second last element\n",
    "    #sort the data in reverse order and select the secod element\n",
    "    #Remove the max element and then get the max of the element\n",
    "    #\n",
    "def secondLargest(li):\n",
    "    li.sort()\n",
    "    return li[-2]\n",
    "secondLargest(li)\n",
    "\n",
    "#Function that returns the nth largest\n",
    "def genericLargest(li,n):\n",
    "    li.sort()\n",
    "    return li[-n]\n",
    "\n",
    "secondLargest(li)\n",
    "genericLargest(li,3)\n",
    "\n",
    "\n",
    "\n",
    "    \n",
    "    \n",
    "    \n",
    "\n"
   ]
  },
  {
   "cell_type": "code",
   "execution_count": 76,
   "metadata": {},
   "outputs": [
    {
     "data": {
      "text/plain": [
       "-1"
      ]
     },
     "execution_count": 76,
     "metadata": {},
     "output_type": "execute_result"
    }
   ],
   "source": [
    "#Function to search for data in a list #list is iterable object\n",
    "#Search for the key in the list and reforturn the index \n",
    "def linearsearch(li,key):\n",
    "    for index in range(0,len(li)):\n",
    "        if li[index]==key:\n",
    "            return index+1\n",
    "    return -1\n",
    "linearsearch(li,456)\n",
    "\n",
    "\n",
    "def linearsearch2(li,key):\n",
    "    for element in li:\n",
    "        if element==key:\n",
    "            return li.index(element)\n",
    "    return -1\n",
    "linearsearch2(li,456)\n",
    "\n",
    "def linearsearch3(li,key):\n",
    "    if key in list:\n",
    "        return list.index(key)\n",
    "    return -1\n",
    "linearsearch(li,900)\n",
    "        \n",
    "        \n",
    "    \n",
    "    "
   ]
  },
  {
   "cell_type": "code",
   "execution_count": 91,
   "metadata": {},
   "outputs": [
    {
     "data": {
      "text/plain": [
       "1"
      ]
     },
     "execution_count": 91,
     "metadata": {},
     "output_type": "execute_result"
    }
   ],
   "source": [
    "#Function to count the occurances of a character in a list\n",
    "#\"Python Programming\",m->2\n",
    "def occunrance(s,c):\n",
    "    count=0\n",
    "    for ch in string:\n",
    "        if ch==c:\n",
    "            count +=1\n",
    "        return count\n",
    "def countCharOccurances2(s,c):\n",
    "    return s.count(c)\n",
    "countCharOccurances2(\"python programming\",'py')\n",
    "\n",
    "\n",
    "#Function to find the number of occurnces of a substring in \n",
    "#\"abcabcddcbaaaa\",\"aa\"->3\n"
   ]
  },
  {
   "cell_type": "code",
   "execution_count": null,
   "metadata": {},
   "outputs": [],
   "source": []
  }
 ],
 "metadata": {
  "kernelspec": {
   "display_name": "Python 3",
   "language": "python",
   "name": "python3"
  },
  "language_info": {
   "codemirror_mode": {
    "name": "ipython",
    "version": 3
   },
   "file_extension": ".py",
   "mimetype": "text/x-python",
   "name": "python",
   "nbconvert_exporter": "python",
   "pygments_lexer": "ipython3",
   "version": "3.7.3"
  }
 },
 "nbformat": 4,
 "nbformat_minor": 2
}
