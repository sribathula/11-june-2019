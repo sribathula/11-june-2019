{
 "cells": [
  {
   "cell_type": "code",
   "execution_count": null,
   "metadata": {},
   "outputs": [],
   "source": [
    "print(\"Hello Kirti\")"
   ]
  },
  {
   "cell_type": "code",
   "execution_count": null,
   "metadata": {},
   "outputs": [],
   "source": [
    "#Goki and his breakup \n",
    "N=int(input())\n",
    "X=int(input())\n",
    "def GokiFriends( N):\n",
    "    for i in range(N):\n",
    "        Y=int(input())\n",
    "        if Y>=X:\n",
    "            print(\"YES\")\n",
    "        else:\n",
    "            print(\"NO\")\n",
    "GokiFriends(N)"
   ]
  },
  {
   "cell_type": "code",
   "execution_count": null,
   "metadata": {},
   "outputs": [],
   "source": [
    "#Life, the Universe, and Everything \n",
    "while(True):\n",
    "    n=int(input())\n",
    "    if(n!=42):\n",
    "        print(n)\n",
    "    else:\n",
    "        break\n",
    "    \n",
    "    "
   ]
  },
  {
   "cell_type": "code",
   "execution_count": null,
   "metadata": {},
   "outputs": [],
   "source": [
    "#Roy and Profile Picture \n",
    "def image(N,L):\n",
    "    for i in range(0,N):\n",
    "        W,H=map(int,input().split())\n",
    "        if (W<L or  H<L) :\n",
    "            print(\"UPLOAD ANOTHER\")\n",
    "        elif W>=L and H>=L:\n",
    "            if(W==H):\n",
    "                print(\"ACCEPTED\")\n",
    "            else:\n",
    "                print(\"CROP IT\")\n",
    "L=int(input())       \n",
    "N=int(input())\n",
    "image(N,L)\n",
    "            \n",
    "            \n"
   ]
  },
  {
   "cell_type": "code",
   "execution_count": null,
   "metadata": {},
   "outputs": [],
   "source": [
    "#Find Product \n",
    "n=int(input())\n",
    "l=list(map(int,input().split()))\n",
    "c=1\n",
    "for i in l:\n",
    "     c=(c*i)%(10**9+7)\n",
    "print(c)\n",
    "    "
   ]
  }
 ],
 "metadata": {
  "kernelspec": {
   "display_name": "Python 3",
   "language": "python",
   "name": "python3"
  },
  "language_info": {
   "codemirror_mode": {
    "name": "ipython",
    "version": 3
   },
   "file_extension": ".py",
   "mimetype": "text/x-python",
   "name": "python",
   "nbconvert_exporter": "python",
   "pygments_lexer": "ipython3",
   "version": "3.7.3"
  }
 },
 "nbformat": 4,
 "nbformat_minor": 2
}
