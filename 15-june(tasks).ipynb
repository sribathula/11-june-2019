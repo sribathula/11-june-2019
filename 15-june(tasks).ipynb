{
 "cells": [
  {
   "cell_type": "code",
   "execution_count": null,
   "metadata": {},
   "outputs": [],
   "source": [
    "#COUNT DIVISORS\n",
    "def countdivisors(l,r,k):\n",
    "    count=0\n",
    "    for i in range(l,r+1):\n",
    "        if(i%k==0):\n",
    "            count=count+1\n",
    "    print(count)\n",
    "    return\n",
    "s=input()\n",
    "s=s.split()\n",
    "l=int(s[0])\n",
    "r=int(s[1])\n",
    "k=int(s[2])\n",
    "countdivisors(l,r,k)\n",
    "        \n"
   ]
  },
  {
   "cell_type": "code",
   "execution_count": null,
   "metadata": {},
   "outputs": [],
   "source": [
    "#Factorial\n",
    "def factorial(N):\n",
    "    fact=1\n",
    "    for i in range(2,N+1):\n",
    "        fact=fact*i\n",
    "    print(fact)\n",
    "    \n",
    "N=int(input())\n",
    "factorial(N)\n",
    "        "
   ]
  },
  {
   "cell_type": "code",
   "execution_count": null,
   "metadata": {},
   "outputs": [],
   "source": [
    "#Toggle string\n",
    "\n",
    "def Tog(S):\n",
    "    S=S.swapcase()\n",
    "    print(S)\n",
    "S=input()\n",
    "Tog(S)"
   ]
  },
  {
   "cell_type": "code",
   "execution_count": null,
   "metadata": {},
   "outputs": [],
   "source": [
    "#Palindrome string\n",
    "\n",
    "def Palindrome(s):\n",
    "    s.lower()\n",
    "    if(s[::1]==s[::-1]):\n",
    "        print(\"YES\")\n",
    "    else:\n",
    "        print(\"NO\")\n",
    "s=str(input())\n",
    "Palindrome(s)\n",
    "    \n"
   ]
  },
  {
   "cell_type": "code",
   "execution_count": null,
   "metadata": {},
   "outputs": [],
   "source": [
    "#Prime Numbers\n",
    "def PrimeNumbers(N):\n",
    "    for i in range(1,N):\n",
    "        count=0\n",
    "        for j in range(1,i+1):\n",
    "            if(i%j==0):\n",
    "                count=count+1\n",
    "        if(count==2):\n",
    "                print(i,end=\" \")\n",
    "    return\n",
    "N=int(input())\n",
    "PrimeNumbers(N)\n",
    "    "
   ]
  },
  {
   "cell_type": "code",
   "execution_count": null,
   "metadata": {},
   "outputs": [],
   "source": [
    "#Two Strings\n",
    "n=int(input())\n",
    "for i in range(n):\n",
    "    z=list(input().split(' '))\n",
    "    if sorted(z[0])==sorted(z[1]):\n",
    "        print(\"YES\")\n",
    "    else:\n",
    "        print(\"NO\")"
   ]
  },
  {
   "cell_type": "code",
   "execution_count": 2,
   "metadata": {},
   "outputs": [
    {
     "data": {
      "text/plain": [
       "['a', 'd', 'c', 'd']"
      ]
     },
     "execution_count": 2,
     "metadata": {},
     "output_type": "execute_result"
    }
   ],
   "source": [
    "#function to toggle string character\n",
    "s=\"a\" \n",
    "s.islower() #check the case of a character\n",
    "s.isupper()\n",
    "s.lower()#convert a character to lower to upper\n",
    "s.upper() #convert a character to upper to lower\n",
    "s1=\"adcd\"\n",
    "list(s1)"
   ]
  },
  {
   "cell_type": "code",
   "execution_count": 7,
   "metadata": {},
   "outputs": [
    {
     "data": {
      "text/plain": [
       "'aBC'"
      ]
     },
     "execution_count": 7,
     "metadata": {},
     "output_type": "execute_result"
    }
   ],
   "source": [
    "def togglestring(s):\n",
    "    s=list(s)\n",
    "    t=[]\n",
    "    for c in s:\n",
    "        if c.islower():\n",
    "            t.append(c.upper())\n",
    "        else:\n",
    "            t.append(c.lower())\n",
    "    return \"\".join(t)\n",
    "togglestring(\"Abc\")\n",
    "        "
   ]
  },
  {
   "cell_type": "markdown",
   "metadata": {},
   "source": [
    "### Problem:Duration\n",
    "Input:start time,end time(HH MM)\n",
    "    HH-{00,23}-{00,01,02,03......23}\n",
    "    MM-{00,59}-{00,01,02,03,.....59}\n",
    "    HH MM -{00,00,23 ,59}\n",
    "\n",
    "output:time difference in HH MM\n",
    "\n"
   ]
  },
  {
   "cell_type": "code",
   "execution_count": 12,
   "metadata": {},
   "outputs": [
    {
     "name": "stdout",
     "output_type": "stream",
     "text": [
      "5 41\n"
     ]
    }
   ],
   "source": [
    "#calcualte the time difference as total number of minutes\n",
    "#convert the total minutes into HH MM\n",
    "\n",
    "s=\"2 42 8 23\"\n",
    "\n",
    "def  minuteDifference(s):\n",
    "    s=s.split()\n",
    "    sh=int(s[0])\n",
    "    sm=int(s[1])\n",
    "    eh=int(s[2])\n",
    "    em=int(s[3])\n",
    "    startminutes=(sh*60)+sm\n",
    "    endminutes=(eh*60)+em\n",
    "    return endminutes-startminutes\n",
    "def outputTimeFormat(minute):\n",
    "    #Convert minutes to HH MM\n",
    "    hh=minute//60\n",
    "    mm=minute %60\n",
    "    print(hh,mm)\n",
    "minutes=minuteDifference(s)\n",
    "outputTimeFormat(minutes)"
   ]
  },
  {
   "cell_type": "markdown",
   "metadata": {},
   "source": [
    "### Problem:Play with Numbers\n",
    "line1:array size(n),no of queries(q)\n",
    "line2:n array elements\n",
    "next q lines:query-subarray of the original "
   ]
  }
 ],
 "metadata": {
  "kernelspec": {
   "display_name": "Python 3",
   "language": "python",
   "name": "python3"
  },
  "language_info": {
   "codemirror_mode": {
    "name": "ipython",
    "version": 3
   },
   "file_extension": ".py",
   "mimetype": "text/x-python",
   "name": "python",
   "nbconvert_exporter": "python",
   "pygments_lexer": "ipython3",
   "version": "3.7.3"
  }
 },
 "nbformat": 4,
 "nbformat_minor": 2
}
