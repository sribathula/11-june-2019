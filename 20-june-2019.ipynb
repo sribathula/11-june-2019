{
 "cells": [
  {
   "cell_type": "markdown",
   "metadata": {},
   "source": [
    "### Day Objectives\n",
    "* Regular Expressions\n",
    "   - Constructing Regular Expressions for various use cases\n",
    "   - Regular Expressions Module and related in Python\n",
    "   - Improving the Contacts application with name and phone number validation\n",
    "* File Handling\n",
    "     - Text Files\n",
    "     - Upgrading the Contacts Application to store contact information in a text file"
   ]
  },
  {
   "cell_type": "markdown",
   "metadata": {},
   "source": [
    "### Regular Expressions\n",
    "- Pattern Matching\n",
    "- Symbolic Notation of a pattern\n",
    "        - Pattern:Format which repeats\n",
    "        - Pattern(RE) reprsents The set of all strings(data) matches that pattern\n",
    "        \n",
    "- [0-9]-> Any digit\n",
    "- [a-z]->Any lower case alphabet\n",
    "- [2468]->All singel digit  multiples of 2\n",
    "\n",
    "\n",
    "-  ^[0-9]{1}$ -> only single digit number\n",
    "\n",
    "-  ^[0-9]{3}$ -> only 3 digit numbers\n",
    "\n",
    "- [0-9]*0$ ->All multiples of 10\n",
    "- ^([1-9][0-9]*[05]$|^([5])$->all multiples of 5\n",
    "\n",
    "-     ->all 10 digit numbers\n",
    "\n",
    "- ^[6-9][0-9]{9}$|^[0][6-9][0-9]{9}|^[+][9][1][6-9][0-9]{9}$     ->Validating phone number(India)(start with 9876 followed by 9 digits)\n",
    "\n",
    "-     ->Email Validation(username@domain.extension)\n",
    "        - username(^[0-9a-z][0-9a-z_.]{4,13}[0-9a-z])\n",
    "            - Length of username:[6,15]\n",
    "            - No special characters other than_.\n",
    "            - sholud not begin end with _.\n",
    "            - Character set:all digits and lower case alphabet\n",
    "        - domain:(^[0-9a-z]{3,18})\n",
    "            - No special characters\n",
    "            - Length of domain:[3,18]\n",
    "            - Characterset:all digits and lowercase alphabet\n",
    "        - extension(^[a-z]{2,4})\n",
    "            - Length of extension:[2,4]\n",
    "            - No special characters\n",
    "            - Characterset:lower case alphabet\n",
    "       email:   ^[0-9a-z][0-9a-z_.]{4,13}[0-9a-z][@][0-9a-z][0-9a-z]{3,18}[.][a-z]{2,4}\n",
    "\n",
    "-  [w][o][r][d]or(word) ->searching a 'word'\n",
    "\n",
    "-   ^[a]...[z]$ ->  Any string of length 5 that starts with 'a' and ends with 'z'\n",
    "\n",
    "\n",
    "-   ^[a].*[z]$ ->  Any string of any length 'a' and ends with 'z'\n",
    "\n",
    "\n"
   ]
  },
  {
   "cell_type": "code",
   "execution_count": 9,
   "metadata": {},
   "outputs": [
    {
     "name": "stdout",
     "output_type": "stream",
     "text": [
      "valid Number\n"
     ]
    },
    {
     "data": {
      "text/plain": [
       "False"
      ]
     },
     "execution_count": 9,
     "metadata": {},
     "output_type": "execute_result"
    }
   ],
   "source": [
    "#Function to validate a phone number \n",
    "import re\n",
    "def phoneNumberValidator(number):\n",
    "    pattern='^[6-9][0-9]{9}|[0][6−9][0−9]{9}|[+][9][1][6−9][0−9]{9}'\n",
    "    if re.match(pattern,str(number)):\n",
    "        print(\"valid Number\")\n",
    "    else:\n",
    "        print(\"invalid Number\")\n",
    "    return\n",
    "phoneNumberValidator(+917989101588)\n",
    "\n",
    "def emailValidator(email):\n",
    "    pattern= \"^[0-9a-z][0-9a-z_.]{4,13}[0-9a-z][@][0-9a-z][0-9a-z]{3,18}[.][a-z]{2,4}\"\n",
    "    if re.match(pattern,str(email)):\n",
    "        return True\n",
    "    return False\n",
    "emailValidator(\"_12344356@gmail.com\")\n",
    "\n",
    "\n",
    "    "
   ]
  },
  {
   "cell_type": "code",
   "execution_count": 32,
   "metadata": {},
   "outputs": [
    {
     "name": "stdout",
     "output_type": "stream",
     "text": [
      "valid Number\n",
      "Invalid Phone Number\n"
     ]
    }
   ],
   "source": [
    "contacts={\"name1\":[9876543210,'name1@domain.ext'],\"name2\":[9876543210,'name2@domain.ext']}\n",
    "def addContacts(name,phone,email):\n",
    "    #verify that the contact doesnot already exists\n",
    "    if name not in contacts:\n",
    "        print(name,\"already exists\")\n",
    "    else:\n",
    "        if not  phoneNumberValidator(phone):\n",
    "            print(\"Invalid Phone Number\")\n",
    "            return\n",
    "        if not emailValidator(email):\n",
    "            print(\"Invalid email address\")\n",
    "            return\n",
    "        newcontact=[]\n",
    "        newcontact.append(phone)\n",
    "        newcontact.append(email)\n",
    "        contacts[name]=newcontact\n",
    "        print(name,\"added successfully\")\n",
    "    return\n",
    "addContacts(\"name1\",\"9876543210\",\"name1@domain.ext\")"
   ]
  },
  {
   "cell_type": "code",
   "execution_count": 33,
   "metadata": {},
   "outputs": [
    {
     "name": "stdout",
     "output_type": "stream",
     "text": [
      "name1\n",
      "Phone: 9876543210\n",
      "Email: name1@domain.ext\n"
     ]
    }
   ],
   "source": [
    "def searchcontacts(name):\n",
    "    if name in contacts:\n",
    "        print(name)\n",
    "        print(\"Phone:\",contacts[name][0])\n",
    "        print(\"Email:\",contacts[name][1])\n",
    "    else:\n",
    "        print(\"%s does not exist\" % name)\n",
    "    return \n",
    "searchcontacts(\"name1\")"
   ]
  },
  {
   "cell_type": "code",
   "execution_count": 36,
   "metadata": {},
   "outputs": [
    {
     "name": "stdout",
     "output_type": "stream",
     "text": [
      "1 added success\n"
     ]
    }
   ],
   "source": [
    "def importContacts(newContacts):\n",
    "    contacts.update(newContacts)\n",
    "    print(len(newContacts.keys()),\"added success\")\n",
    "    return\n",
    "newContacts={\"name4\":[\"8907654312\",\"sribathula126@gmail.com\"]}\n",
    "importContacts(newContacts)"
   ]
  },
  {
   "cell_type": "code",
   "execution_count": 37,
   "metadata": {},
   "outputs": [
    {
     "data": {
      "text/plain": [
       "{'name1': [9876543210, 'name1@domain.ext'],\n",
       " 'name2': 8907654312,\n",
       " 'name3': 123456789,\n",
       " 'name4': ['8907654312', 'sribathula126@gmail.com']}"
      ]
     },
     "execution_count": 37,
     "metadata": {},
     "output_type": "execute_result"
    }
   ],
   "source": [
    "contacts"
   ]
  },
  {
   "cell_type": "code",
   "execution_count": 34,
   "metadata": {},
   "outputs": [
    {
     "name": "stdout",
     "output_type": "stream",
     "text": [
      "name1 \n",
      " Phone: 9876543210 \n",
      " Email: name1@domain.ext\n",
      "name2 \n",
      " Phone: 9876543210 \n",
      " Email: name2@domain.ext\n"
     ]
    }
   ],
   "source": [
    "def listAllContacts():\n",
    "    for contact,info in contacts.items():\n",
    "        print(contact,\"\\n\",\"Phone:\",info[0],\"\\n\",\"Email:\",info[1])\n",
    "listAllContacts()\n",
    "        \n",
    "    "
   ]
  },
  {
   "cell_type": "code",
   "execution_count": null,
   "metadata": {},
   "outputs": [],
   "source": [
    "#Function to edit contact information\n",
    "def editContact(name,phone,email):"
   ]
  },
  {
   "cell_type": "markdown",
   "metadata": {},
   "source": [
    "### File Handling in Python\n",
    "\n",
    "File - Document containning information residing on the permanent storage(either local machine or cloud)\n",
    "\n",
    "Types - Text,PDF,CSV(spreadsheets) etc\n",
    "\n",
    "File IO(input and output)-channeling I/O data to files\n",
    "\n",
    "Default I/O Channels - Keyboard / Screen\n",
    "\n",
    "Change I/O channel to files for Reading and Writing\n",
    "\n",
    "Read a file - Input\n",
    "\n",
    "Write to a file - Output to a file\n",
    "\n",
    "\n",
    "Read/write  file - open(filename,mode)\n",
    "\n",
    "\n",
    "\n"
   ]
  },
  {
   "cell_type": "code",
   "execution_count": 46,
   "metadata": {},
   "outputs": [
    {
     "data": {
      "text/plain": [
       "'Line1\\nLine2\\nLine3'"
      ]
     },
     "execution_count": 46,
     "metadata": {},
     "output_type": "execute_result"
    }
   ],
   "source": [
    "#Funtion to read a file\n",
    "\n",
    "def readFile(filename):\n",
    "    f=open(filename,'r')\n",
    "    filedata=f.read()\n",
    "    f.close()\n",
    "    return filedata\n",
    "filename='Datafiles/data.txt'\n",
    "readFile(filename)\n"
   ]
  },
  {
   "cell_type": "code",
   "execution_count": 44,
   "metadata": {},
   "outputs": [
    {
     "ename": "TypeError",
     "evalue": "expected str, bytes or os.PathLike object, not list",
     "output_type": "error",
     "traceback": [
      "\u001b[1;31m---------------------------------------------------------------------------\u001b[0m",
      "\u001b[1;31mTypeError\u001b[0m                                 Traceback (most recent call last)",
      "\u001b[1;32m<ipython-input-44-0f652535f196>\u001b[0m in \u001b[0;36m<module>\u001b[1;34m\u001b[0m\n\u001b[0;32m      6\u001b[0m     \u001b[1;32mreturn\u001b[0m \u001b[0mfiledata\u001b[0m\u001b[1;33m\u001b[0m\u001b[1;33m\u001b[0m\u001b[0m\n\u001b[0;32m      7\u001b[0m \u001b[0mfilename\u001b[0m\u001b[1;33m=\u001b[0m\u001b[1;34m'Datafiles/data.txt'\u001b[0m\u001b[1;33m.\u001b[0m\u001b[0msplit\u001b[0m\u001b[1;33m(\u001b[0m\u001b[1;34m'\\n'\u001b[0m\u001b[1;33m)\u001b[0m\u001b[1;33m\u001b[0m\u001b[1;33m\u001b[0m\u001b[0m\n\u001b[1;32m----> 8\u001b[1;33m \u001b[0mreadFile\u001b[0m\u001b[1;33m(\u001b[0m\u001b[0mfilename\u001b[0m\u001b[1;33m)\u001b[0m\u001b[1;33m\u001b[0m\u001b[1;33m\u001b[0m\u001b[0m\n\u001b[0m",
      "\u001b[1;32m<ipython-input-44-0f652535f196>\u001b[0m in \u001b[0;36mreadFile\u001b[1;34m(filename)\u001b[0m\n\u001b[0;32m      1\u001b[0m \u001b[1;33m\u001b[0m\u001b[0m\n\u001b[0;32m      2\u001b[0m \u001b[1;32mdef\u001b[0m \u001b[0mreadFile\u001b[0m\u001b[1;33m(\u001b[0m\u001b[0mfilename\u001b[0m\u001b[1;33m)\u001b[0m\u001b[1;33m:\u001b[0m\u001b[1;33m\u001b[0m\u001b[1;33m\u001b[0m\u001b[0m\n\u001b[1;32m----> 3\u001b[1;33m     \u001b[0mf\u001b[0m\u001b[1;33m=\u001b[0m\u001b[0mopen\u001b[0m\u001b[1;33m(\u001b[0m\u001b[0mfilename\u001b[0m\u001b[1;33m,\u001b[0m\u001b[1;34m'r'\u001b[0m\u001b[1;33m)\u001b[0m\u001b[1;33m\u001b[0m\u001b[1;33m\u001b[0m\u001b[0m\n\u001b[0m\u001b[0;32m      4\u001b[0m     \u001b[0mfiledata\u001b[0m\u001b[1;33m=\u001b[0m\u001b[0mf\u001b[0m\u001b[1;33m.\u001b[0m\u001b[0mread\u001b[0m\u001b[1;33m(\u001b[0m\u001b[1;33m)\u001b[0m\u001b[1;33m\u001b[0m\u001b[1;33m\u001b[0m\u001b[0m\n\u001b[0;32m      5\u001b[0m     \u001b[0mf\u001b[0m\u001b[1;33m.\u001b[0m\u001b[0mclose\u001b[0m\u001b[1;33m(\u001b[0m\u001b[1;33m)\u001b[0m\u001b[1;33m\u001b[0m\u001b[1;33m\u001b[0m\u001b[0m\n",
      "\u001b[1;31mTypeError\u001b[0m: expected str, bytes or os.PathLike object, not list"
     ]
    }
   ],
   "source": [
    "\n",
    "def readFile(filename):\n",
    "    f=open(filename,'r')\n",
    "    filedata=f.read()\n",
    "    f.close()\n",
    "    return filedata\n",
    "filename='Datafiles/data.txt'.split('\\n')\n",
    "readFile(filename)\n"
   ]
  },
  {
   "cell_type": "code",
   "execution_count": 42,
   "metadata": {},
   "outputs": [
    {
     "name": "stdout",
     "output_type": "stream",
     "text": [
      "Line1\n",
      "Line2\n",
      "Line3\n"
     ]
    }
   ],
   "source": [
    "\n",
    "\n",
    "def readFile(filename):\n",
    "    f=open(filename,'r')\n",
    "    filedata=f.read()\n",
    "    f.close()\n",
    "    return filedata\n",
    "filename='Datafiles/data.txt'\n",
    "filedata=readFile(filename)\n",
    "for line in filedata.split('\\n'):\n",
    "    print(line)"
   ]
  },
  {
   "cell_type": "code",
   "execution_count": 52,
   "metadata": {},
   "outputs": [
    {
     "name": "stdout",
     "output_type": "stream",
     "text": [
      "Line1\n",
      "Line2\n",
      "Line3Line1\n",
      "Line2\n",
      "Line3\n"
     ]
    }
   ],
   "source": [
    "def PrintFileDataLines(filename):\n",
    "    f=open(filename,'r')\n",
    "    for line in f:\n",
    "        print(line,end='')\n",
    "    return\n",
    "PrintFileDataLines(filename)\n",
    "print(readFile(filename))\n",
    "                       \n",
    "                       \n",
    "\n",
    "\n"
   ]
  },
  {
   "cell_type": "code",
   "execution_count": 54,
   "metadata": {},
   "outputs": [],
   "source": [
    "#Function to write data into a file\n",
    "def writeIntoFile(filename,filedata):\n",
    "    with open(filename,'w') as f:\n",
    "        f.write(filedata)\n",
    "    return\n",
    "filename='DataFiles/data.txt'\n",
    "writeIntoFile(filename,\"new data\")\n"
   ]
  },
  {
   "cell_type": "code",
   "execution_count": 57,
   "metadata": {},
   "outputs": [],
   "source": [
    "#Function to append data into a file\n",
    "def appendDataToFile(filename,filedata):\n",
    "    with open(filename,'a') as f:\n",
    "        f.write(filedata)\n",
    "    return\n",
    "filedata=\"Line2\\nLine3\"\n",
    "appendDataToFile(filename,filedata)"
   ]
  },
  {
   "cell_type": "code",
   "execution_count": 61,
   "metadata": {},
   "outputs": [],
   "source": [
    "#Function to append data into a file\n",
    "def appendDataToFile(filename,filedata):\n",
    "    with open(filename,'a') as f:\n",
    "        for line in filedata:\n",
    "            f.write('\\n'+line)\n",
    "    return\n",
    "filedata= [\"Line2\",\"Line3\"]\n",
    "appendDataToFile(filename,filedata)"
   ]
  },
  {
   "cell_type": "code",
   "execution_count": null,
   "metadata": {},
   "outputs": [],
   "source": []
  }
 ],
 "metadata": {
  "kernelspec": {
   "display_name": "Python 3",
   "language": "python",
   "name": "python3"
  },
  "language_info": {
   "codemirror_mode": {
    "name": "ipython",
    "version": 3
   },
   "file_extension": ".py",
   "mimetype": "text/x-python",
   "name": "python",
   "nbconvert_exporter": "python",
   "pygments_lexer": "ipython3",
   "version": "3.7.3"
  }
 },
 "nbformat": 4,
 "nbformat_minor": 2
}
